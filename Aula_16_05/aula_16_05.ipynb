{
  "nbformat": 4,
  "nbformat_minor": 0,
  "metadata": {
    "colab": {
      "name": "aula_16_05.ipynb",
      "provenance": []
    },
    "kernelspec": {
      "name": "python3",
      "display_name": "Python 3"
    },
    "language_info": {
      "name": "python"
    }
  },
  "cells": [
    {
      "cell_type": "code",
      "execution_count": 2,
      "metadata": {
        "id": "lw3Vmpj1YDOY"
      },
      "outputs": [],
      "source": [
        "class Aluno: \n",
        "  \n",
        "  def __init__(self, cpf, name, course):\n",
        "    self.__cpf = cpf\n",
        "    self.__name = name\n",
        "    self.__course = course\n",
        "    self.__listDis = []\n",
        "\n",
        "  def getCPF(self):\n",
        "    return(self.__cpf)\n",
        "\n",
        "  def getName(self):\n",
        "    return(self.__name)\n",
        "\n",
        "  def getCurso(self):\n",
        "    return(self.__course)\n",
        "\n",
        "  def getListDis(self):\n",
        "    return(self.__listDis)\n",
        "\n",
        "  def __str__(self):\n",
        "    return( str(f\"Aluno CPF: {self.__cpf}, Nome: {self.__name}, Curso: {self.__course}, Lista de discplinas cursadas: {self.__listDis}\"))"
      ]
    },
    {
      "cell_type": "code",
      "source": [
        "listStudent = []\n",
        "\n",
        "student = Aluno(129, 'Rodrigo Cardoso', 'Sistemas de informação')\n",
        "\n",
        "listStudent.append(student)"
      ],
      "metadata": {
        "id": "LWBCk_Qqajq5"
      },
      "execution_count": 8,
      "outputs": []
    },
    {
      "cell_type": "code",
      "source": [
        "listStudent[0].getName()\n"
      ],
      "metadata": {
        "colab": {
          "base_uri": "https://localhost:8080/",
          "height": 35
        },
        "id": "KehvgdqybP-c",
        "outputId": "9604f232-7043-418b-91cb-875689cf8746"
      },
      "execution_count": 10,
      "outputs": [
        {
          "output_type": "execute_result",
          "data": {
            "text/plain": [
              "'Rodrigo Cardoso'"
            ],
            "application/vnd.google.colaboratory.intrinsic+json": {
              "type": "string"
            }
          },
          "metadata": {},
          "execution_count": 10
        }
      ]
    }
  ]
}