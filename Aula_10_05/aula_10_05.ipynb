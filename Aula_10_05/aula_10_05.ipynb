{
  "nbformat": 4,
  "nbformat_minor": 0,
  "metadata": {
    "colab": {
      "name": "aula-10-05.ipynb",
      "provenance": []
    },
    "kernelspec": {
      "name": "python3",
      "display_name": "Python 3"
    },
    "language_info": {
      "name": "python"
    }
  },
  "cells": [
    {
      "cell_type": "code",
      "execution_count": 8,
      "metadata": {
        "id": "gB1oiyeIhWwE"
      },
      "outputs": [],
      "source": [
        "import pandas as pd\n",
        "import glob"
      ]
    },
    {
      "cell_type": "code",
      "source": [
        "path = './charts/*.csv'\n",
        "\n",
        "fileList = glob.glob(path)\n",
        "\n",
        "list = []\n",
        "\n",
        "for file in fileList:\n",
        "  list.append(pd.read_csv(file, sep='\\t'))\n",
        "\n",
        "dataFrame = pd.concat(list)\n",
        "\n",
        "dataFrame.head()"
      ],
      "metadata": {
        "id": "yL1ivnIgjAi7"
      },
      "execution_count": null,
      "outputs": []
    },
    {
      "cell_type": "code",
      "source": [
        "length = len(dataFrame['Track'].unique())\n",
        "print(length)"
      ],
      "metadata": {
        "id": "W9LQTxxmlgBp"
      },
      "execution_count": null,
      "outputs": []
    },
    {
      "cell_type": "code",
      "source": [
        "medium = dataFrame.groupby(['Track'])['Position'].agg(['min','max','median'])\n",
        "\n",
        "print(medium.head())"
      ],
      "metadata": {
        "id": "36hOLy33nDQl"
      },
      "execution_count": null,
      "outputs": []
    },
    {
      "cell_type": "code",
      "source": [
        "songs = dataFrame.groupby(['Track'])['Date'].agg(['min','max'])\n",
        "\n",
        "print(songs.head())"
      ],
      "metadata": {
        "id": "9Hv5xETAntw_"
      },
      "execution_count": null,
      "outputs": []
    },
    {
      "cell_type": "code",
      "source": [
        "dataFrame.to_csv('newDataFrame.csv')"
      ],
      "metadata": {
        "id": "G7aLtdBTo2d6"
      },
      "execution_count": 30,
      "outputs": []
    },
    {
      "cell_type": "code",
      "source": [
        "newDataFrame = pd.read_csv('./newDataFrame.csv')\n",
        "\n",
        "print(newDataFrame.head(4))"
      ],
      "metadata": {
        "colab": {
          "base_uri": "https://localhost:8080/"
        },
        "id": "ixsmme4qpqe-",
        "outputId": "5cb52e04-24b3-4155-d6d5-035812391a16"
      },
      "execution_count": 31,
      "outputs": [
        {
          "output_type": "stream",
          "name": "stdout",
          "text": [
            "   Unnamed: 0                      ID                       Track    Artist  \\\n",
            "0           0  0W7brFokN6QtGRNp32RCQP              Alone With You       Arz   \n",
            "1           1  5fwSHlTEWpluwOM0Sxnh5k                       Pepas   Farruko   \n",
            "2           2  2muh7P8rylTiI0IJIn2d3z                    Vvvalsta  VC Barre   \n",
            "3           3  1uMHCAyGmHqyygoNRuo7MV  edamame (feat. Rich Brian)     bbno$   \n",
            "\n",
            "   Position    Trend        Date     Chart market  \n",
            "0         1  #3e3e40  2021-09-01  Viral 50     se  \n",
            "1         2  #3e3e40  2021-09-01  Viral 50     se  \n",
            "2         3  #3e3e40  2021-09-01  Viral 50     se  \n",
            "3         4  #3e3e40  2021-09-01  Viral 50     se  \n"
          ]
        }
      ]
    }
  ]
}