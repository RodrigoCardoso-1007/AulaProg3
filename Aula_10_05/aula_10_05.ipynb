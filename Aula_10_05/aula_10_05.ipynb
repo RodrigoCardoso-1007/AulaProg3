{
  "nbformat": 4,
  "nbformat_minor": 0,
  "metadata": {
    "colab": {
      "name": "aula-10-05.ipynb",
      "provenance": [],
      "collapsed_sections": []
    },
    "kernelspec": {
      "name": "python3",
      "display_name": "Python 3"
    },
    "language_info": {
      "name": "python"
    }
  },
  "cells": [
    {
      "cell_type": "code",
      "execution_count": 1,
      "metadata": {
        "id": "gB1oiyeIhWwE"
      },
      "outputs": [],
      "source": [
        "import pandas as pd\n",
        "import glob"
      ]
    },
    {
      "cell_type": "code",
      "source": [
        "path = './charts/*.csv'\n",
        "\n",
        "fileList = glob.glob(path)\n",
        "\n",
        "list = []\n",
        "\n",
        "for file in fileList:\n",
        "  list.append(pd.read_csv(file, sep='\\t'))\n",
        "\n",
        "dataFrame = pd.concat(list)\n",
        "\n",
        "dataFrame.head()"
      ],
      "metadata": {
        "id": "yL1ivnIgjAi7"
      },
      "execution_count": null,
      "outputs": []
    },
    {
      "cell_type": "code",
      "source": [
        "length = len(dataFrame['ID'].unique())\n",
        "print(length)"
      ],
      "metadata": {
        "id": "W9LQTxxmlgBp"
      },
      "execution_count": null,
      "outputs": []
    },
    {
      "cell_type": "code",
      "source": [
        "medium = dataFrame.groupby(['ID'])['Position'].agg(['min','max','median'])\n",
        "\n",
        "print(medium.head())"
      ],
      "metadata": {
        "id": "36hOLy33nDQl"
      },
      "execution_count": null,
      "outputs": []
    },
    {
      "cell_type": "code",
      "source": [
        "songs = dataFrame.groupby(['ID'])['Date'].agg(['min','max'])\n",
        "\n",
        "print(songs.head())"
      ],
      "metadata": {
        "id": "9Hv5xETAntw_"
      },
      "execution_count": null,
      "outputs": []
    },
    {
      "cell_type": "code",
      "source": [
        "dataFrame.to_csv('newDataFrame.csv')"
      ],
      "metadata": {
        "id": "G7aLtdBTo2d6"
      },
      "execution_count": null,
      "outputs": []
    }
  ]
}